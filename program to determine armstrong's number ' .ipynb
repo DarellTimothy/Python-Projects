{
 "cells": [
  {
   "attachments": {},
   "cell_type": "markdown",
   "metadata": {},
   "source": [
    "# Program Yang Dapat Menentukan Bilangan Armstrong"
   ]
  },
  {
   "attachments": {},
   "cell_type": "markdown",
   "metadata": {},
   "source": [
    "## Menggunakan For i in ..."
   ]
  },
  {
   "cell_type": "code",
   "execution_count": null,
   "metadata": {},
   "outputs": [],
   "source": [
    "num = int(input(\"Masukkan angka\"))\n",
    "\n",
    "bil_user = num\n",
    "\n",
    "if num > 0:\n",
    "    banyak_digit = len(str(num))\n",
    "    total = 0\n",
    "    for i in range(banyak_digit):\n",
    "        digit = num % 10\n",
    "        num //= 10\n",
    "        total += digit**(banyak_digit)\n",
    "    if total == bil_user:\n",
    "        print(f'Ya, {bil_user} merupakan bilangan Armstrong')\n",
    "    else:\n",
    "        print(f\"Tidak, {bil_user} bukan bilangan Armstrong\")\n",
    "\n",
    "else:\n",
    "\n",
    "    print(\"Tolong Masukkan angka valid\")"
   ]
  },
  {
   "attachments": {},
   "cell_type": "markdown",
   "metadata": {},
   "source": [
    "## Menggunakan While"
   ]
  },
  {
   "cell_type": "code",
   "execution_count": null,
   "metadata": {},
   "outputs": [],
   "source": [
    "num = int(input(\"Masukkan angka\"))\n",
    "\n",
    "bil_user = num\n",
    "\n",
    "if num > 0:\n",
    "    banyak_digit = len(str(num))\n",
    "    total = 0\n",
    "    for i in range(banyak_digit):\n",
    "        digit = num % 10\n",
    "        num //= 10\n",
    "        total += digit**(banyak_digit)\n",
    "    if total == bil_user:\n",
    "        print(f'Ya, {bil_user} merupakan bilangan Armstrong')\n",
    "    else:\n",
    "        print(f\"Tidak, {bil_user} bukan bilangan Armstrong\")\n",
    "\n",
    "else:\n",
    "\n",
    "    print(\"Tolong Masukkan angka valid\")"
   ]
  }
 ],
 "metadata": {
  "language_info": {
   "name": "python"
  },
  "orig_nbformat": 4
 },
 "nbformat": 4,
 "nbformat_minor": 2
}
